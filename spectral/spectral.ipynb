{
 "metadata": {
  "language_info": {
   "codemirror_mode": {
    "name": "ipython",
    "version": 3
   },
   "file_extension": ".py",
   "mimetype": "text/x-python",
   "name": "python",
   "nbconvert_exporter": "python",
   "pygments_lexer": "ipython3",
   "version": "3.7.6"
  },
  "orig_nbformat": 2,
  "kernelspec": {
   "name": "python376jvsc74a57bd0aee8b7b246df8f9039afb4144a1f6fd8d2ca17a180786b69acc140d282b71a49",
   "display_name": "Python 3.7.6 64-bit"
  },
  "metadata": {
   "interpreter": {
    "hash": "aee8b7b246df8f9039afb4144a1f6fd8d2ca17a180786b69acc140d282b71a49"
   }
  }
 },
 "nbformat": 4,
 "nbformat_minor": 2,
 "cells": [
  {
   "source": [
    "\n",
    "<script type=\"text/x-mathjax-config\">\n",
    "    // enable inline parsing with single $ instead of /\n",
    "    MathJax.Hub.Config({\n",
    "        tex2jax: {\n",
    "            inlineMath: [['$','$'],['\\\\(','\\\\)']],\n",
    "            displayMath: [ ['$$','$$'], ['\\\\[','\\\\]'] ],\n",
    "            processEscapes: true\n",
    "        },\n",
    "    });\n",
    "    $(document).on('previewUpdated',function() {\n",
    "        setTimeout(function() {\n",
    "                    MathJax.Hub.Queue(['Typeset',MathJax.Hub,'#MainContent']);\n",
    "        },10);\n",
    "    });\n",
    "</script>\n",
    "<script async src=\"https://cdnjs.cloudflare.com/ajax/libs/mathjax/2.7.5/latest.js?config=TeX-MML-AM_CHTML\"></script>\n"
   ],
   "cell_type": "markdown",
   "metadata": {}
  },
  {
   "source": [
    "# Graph Theory and Spectral Clustering"
   ],
   "cell_type": "markdown",
   "metadata": {}
  },
  {
   "source": [
    "\n",
    "## Adjacency Matrix\n",
    "The adjacency matrix is a matrix of size $n \\times n$ where n represents the number of graph vertices, whose `A[u][v]` entry is defined as follows:\n",
    "\n",
    "$$\n",
    "A(u,v)=\\begin{cases}\n",
    "    k,& \\text{if } u \\text{ and } v \\text{ are adjacent}\\\\\n",
    "    0,              & \\text{otherwise}\n",
    "\\end{cases}\n",
    "$$\n",
    "\n",
    "Above, $k$ represents the weight or the number of edges between two vertives. In the case of unweighted graph where there is only one edge between two vertices, the adjacency matrix is simply defined as: \n",
    "\n",
    " $$\n",
    "A(u,v)=\\begin{cases}\n",
    "    1,& \\text{if } u \\text{ and } v \\text{ are adjacent}\\\\\n",
    "    0,              & \\text{otherwise}\n",
    "\\end{cases}\n",
    "$$\n"
   ],
   "cell_type": "markdown",
   "metadata": {}
  },
  {
   "source": [
    "<!---------------------------------------->\n",
    "### Example\n",
    "<p align=\"center\">\n",
    "  <img src=\"../imgs/graph.png\" width=\"120\" title=\"graph\">\n",
    "</p>\n",
    "\n",
    "\n"
   ],
   "cell_type": "markdown",
   "metadata": {}
  },
  {
   "source": [
    "$$\n",
    "\\begin{matrix}\n",
    " - & a & b & c & d & e & f \\\\\n",
    "a & 0 & 0 & 0 & 0 & 0 & 0 \\\\\n",
    "b & 0 & 0 & 0 & 0 & 0 & 0 \\\\\n",
    "c & 0 & 0 & 0 & 0 & 0 & 0 \\\\\n",
    "d & 0 & 0 & 0 & 0 & 0 & 0 \\\\\n",
    "e & 0 & 0 & 0 & 0 & 0 & 0 \\\\\n",
    "f & 0 & 0 & 0 & 0 & 0 & 0 \\\\\n",
    "\\end{matrix}\n",
    "$$\n",
    "\n",
    "<!-------------------------------------------------------------------------------->\n",
    "### Degree Matrix\n",
    "The degree matrix is a diagonal matrix with the diagonal "
   ],
   "cell_type": "markdown",
   "metadata": {}
  },
  {
   "cell_type": "code",
   "execution_count": null,
   "metadata": {},
   "outputs": [],
   "source": [
    "import numpy as np\n",
    "import math\n",
    "\n",
    "# adjacency matrix\n",
    "A = np.array([[0, 1, 1, 1], [0, 0, 1, 1], [0,0,0,1], [1,0,0,0]])\n",
    "# degree matrix\n",
    "D = None\n",
    "# laplacian matrix\n",
    "L = None\n",
    "L = None\n"
   ]
  }
 ]
}